{
 "cells": [
  {
   "cell_type": "markdown",
   "id": "a200a8d6",
   "metadata": {
    "papermill": {
     "duration": 0.005094,
     "end_time": "2023-05-16T19:20:42.621989",
     "exception": false,
     "start_time": "2023-05-16T19:20:42.616895",
     "status": "completed"
    },
    "tags": []
   },
   "source": [
    "# Importing libraries and showing the dataframe:"
   ]
  },
  {
   "cell_type": "code",
   "execution_count": 1,
   "id": "a1fc73a0",
   "metadata": {
    "_cell_guid": "b1076dfc-b9ad-4769-8c92-a6c4dae69d19",
    "_uuid": "8f2839f25d086af736a60e9eeb907d3b93b6e0e5",
    "execution": {
     "iopub.execute_input": "2023-05-16T19:20:42.633196Z",
     "iopub.status.busy": "2023-05-16T19:20:42.632732Z",
     "iopub.status.idle": "2023-05-16T19:20:44.358916Z",
     "shell.execute_reply": "2023-05-16T19:20:44.357572Z"
    },
    "papermill": {
     "duration": 1.734978,
     "end_time": "2023-05-16T19:20:44.361515",
     "exception": false,
     "start_time": "2023-05-16T19:20:42.626537",
     "status": "completed"
    },
    "tags": []
   },
   "outputs": [
    {
     "name": "stderr",
     "output_type": "stream",
     "text": [
      "/opt/conda/lib/python3.10/site-packages/scipy/__init__.py:146: UserWarning: A NumPy version >=1.16.5 and <1.23.0 is required for this version of SciPy (detected version 1.23.5\n",
      "  warnings.warn(f\"A NumPy version >={np_minversion} and <{np_maxversion}\"\n"
     ]
    },
    {
     "data": {
      "text/html": [
       "<div>\n",
       "<style scoped>\n",
       "    .dataframe tbody tr th:only-of-type {\n",
       "        vertical-align: middle;\n",
       "    }\n",
       "\n",
       "    .dataframe tbody tr th {\n",
       "        vertical-align: top;\n",
       "    }\n",
       "\n",
       "    .dataframe thead th {\n",
       "        text-align: right;\n",
       "    }\n",
       "</style>\n",
       "<table border=\"1\" class=\"dataframe\">\n",
       "  <thead>\n",
       "    <tr style=\"text-align: right;\">\n",
       "      <th></th>\n",
       "      <th>key_id</th>\n",
       "      <th>goal_id</th>\n",
       "      <th>tournament_id</th>\n",
       "      <th>tournament_name</th>\n",
       "      <th>match_id</th>\n",
       "      <th>match_name</th>\n",
       "      <th>match_date</th>\n",
       "      <th>stage_name</th>\n",
       "      <th>group_name</th>\n",
       "      <th>team_id</th>\n",
       "      <th>...</th>\n",
       "      <th>shirt_number</th>\n",
       "      <th>player_team_id</th>\n",
       "      <th>player_team_name</th>\n",
       "      <th>player_team_code</th>\n",
       "      <th>minute_label</th>\n",
       "      <th>minute_regulation</th>\n",
       "      <th>minute_stoppage</th>\n",
       "      <th>match_period</th>\n",
       "      <th>own_goal</th>\n",
       "      <th>penalty</th>\n",
       "    </tr>\n",
       "  </thead>\n",
       "  <tbody>\n",
       "    <tr>\n",
       "      <th>0</th>\n",
       "      <td>1</td>\n",
       "      <td>G-0001</td>\n",
       "      <td>WC-1930</td>\n",
       "      <td>1930 FIFA World Cup</td>\n",
       "      <td>M-1930-01</td>\n",
       "      <td>France v Mexico</td>\n",
       "      <td>7/13/1930</td>\n",
       "      <td>group stage</td>\n",
       "      <td>Group 1</td>\n",
       "      <td>T-28</td>\n",
       "      <td>...</td>\n",
       "      <td>0</td>\n",
       "      <td>T-28</td>\n",
       "      <td>France</td>\n",
       "      <td>FRA</td>\n",
       "      <td>19'</td>\n",
       "      <td>19</td>\n",
       "      <td>0</td>\n",
       "      <td>first half</td>\n",
       "      <td>0</td>\n",
       "      <td>0</td>\n",
       "    </tr>\n",
       "    <tr>\n",
       "      <th>1</th>\n",
       "      <td>2</td>\n",
       "      <td>G-0002</td>\n",
       "      <td>WC-1930</td>\n",
       "      <td>1930 FIFA World Cup</td>\n",
       "      <td>M-1930-01</td>\n",
       "      <td>France v Mexico</td>\n",
       "      <td>7/13/1930</td>\n",
       "      <td>group stage</td>\n",
       "      <td>Group 1</td>\n",
       "      <td>T-28</td>\n",
       "      <td>...</td>\n",
       "      <td>0</td>\n",
       "      <td>T-28</td>\n",
       "      <td>France</td>\n",
       "      <td>FRA</td>\n",
       "      <td>40'</td>\n",
       "      <td>40</td>\n",
       "      <td>0</td>\n",
       "      <td>first half</td>\n",
       "      <td>0</td>\n",
       "      <td>0</td>\n",
       "    </tr>\n",
       "    <tr>\n",
       "      <th>2</th>\n",
       "      <td>3</td>\n",
       "      <td>G-0003</td>\n",
       "      <td>WC-1930</td>\n",
       "      <td>1930 FIFA World Cup</td>\n",
       "      <td>M-1930-01</td>\n",
       "      <td>France v Mexico</td>\n",
       "      <td>7/13/1930</td>\n",
       "      <td>group stage</td>\n",
       "      <td>Group 1</td>\n",
       "      <td>T-28</td>\n",
       "      <td>...</td>\n",
       "      <td>0</td>\n",
       "      <td>T-28</td>\n",
       "      <td>France</td>\n",
       "      <td>FRA</td>\n",
       "      <td>43'</td>\n",
       "      <td>43</td>\n",
       "      <td>0</td>\n",
       "      <td>first half</td>\n",
       "      <td>0</td>\n",
       "      <td>0</td>\n",
       "    </tr>\n",
       "    <tr>\n",
       "      <th>3</th>\n",
       "      <td>4</td>\n",
       "      <td>G-0004</td>\n",
       "      <td>WC-1930</td>\n",
       "      <td>1930 FIFA World Cup</td>\n",
       "      <td>M-1930-01</td>\n",
       "      <td>France v Mexico</td>\n",
       "      <td>7/13/1930</td>\n",
       "      <td>group stage</td>\n",
       "      <td>Group 1</td>\n",
       "      <td>T-44</td>\n",
       "      <td>...</td>\n",
       "      <td>0</td>\n",
       "      <td>T-44</td>\n",
       "      <td>Mexico</td>\n",
       "      <td>MEX</td>\n",
       "      <td>70'</td>\n",
       "      <td>70</td>\n",
       "      <td>0</td>\n",
       "      <td>second half</td>\n",
       "      <td>0</td>\n",
       "      <td>0</td>\n",
       "    </tr>\n",
       "    <tr>\n",
       "      <th>4</th>\n",
       "      <td>5</td>\n",
       "      <td>G-0005</td>\n",
       "      <td>WC-1930</td>\n",
       "      <td>1930 FIFA World Cup</td>\n",
       "      <td>M-1930-01</td>\n",
       "      <td>France v Mexico</td>\n",
       "      <td>7/13/1930</td>\n",
       "      <td>group stage</td>\n",
       "      <td>Group 1</td>\n",
       "      <td>T-28</td>\n",
       "      <td>...</td>\n",
       "      <td>0</td>\n",
       "      <td>T-28</td>\n",
       "      <td>France</td>\n",
       "      <td>FRA</td>\n",
       "      <td>87'</td>\n",
       "      <td>87</td>\n",
       "      <td>0</td>\n",
       "      <td>second half</td>\n",
       "      <td>0</td>\n",
       "      <td>0</td>\n",
       "    </tr>\n",
       "    <tr>\n",
       "      <th>...</th>\n",
       "      <td>...</td>\n",
       "      <td>...</td>\n",
       "      <td>...</td>\n",
       "      <td>...</td>\n",
       "      <td>...</td>\n",
       "      <td>...</td>\n",
       "      <td>...</td>\n",
       "      <td>...</td>\n",
       "      <td>...</td>\n",
       "      <td>...</td>\n",
       "      <td>...</td>\n",
       "      <td>...</td>\n",
       "      <td>...</td>\n",
       "      <td>...</td>\n",
       "      <td>...</td>\n",
       "      <td>...</td>\n",
       "      <td>...</td>\n",
       "      <td>...</td>\n",
       "      <td>...</td>\n",
       "      <td>...</td>\n",
       "      <td>...</td>\n",
       "    </tr>\n",
       "    <tr>\n",
       "      <th>2715</th>\n",
       "      <td>2716</td>\n",
       "      <td>G-2716</td>\n",
       "      <td>WC-2022</td>\n",
       "      <td>2022 FIFA World Cup</td>\n",
       "      <td>M-2022-64</td>\n",
       "      <td>Argentina v France</td>\n",
       "      <td>12/18/2022</td>\n",
       "      <td>final</td>\n",
       "      <td>not applicable</td>\n",
       "      <td>T-03</td>\n",
       "      <td>...</td>\n",
       "      <td>11</td>\n",
       "      <td>T-03</td>\n",
       "      <td>Argentina</td>\n",
       "      <td>ARG</td>\n",
       "      <td>36'</td>\n",
       "      <td>36</td>\n",
       "      <td>0</td>\n",
       "      <td>first half</td>\n",
       "      <td>0</td>\n",
       "      <td>0</td>\n",
       "    </tr>\n",
       "    <tr>\n",
       "      <th>2716</th>\n",
       "      <td>2717</td>\n",
       "      <td>G-2717</td>\n",
       "      <td>WC-2022</td>\n",
       "      <td>2022 FIFA World Cup</td>\n",
       "      <td>M-2022-64</td>\n",
       "      <td>Argentina v France</td>\n",
       "      <td>12/18/2022</td>\n",
       "      <td>final</td>\n",
       "      <td>not applicable</td>\n",
       "      <td>T-28</td>\n",
       "      <td>...</td>\n",
       "      <td>10</td>\n",
       "      <td>T-28</td>\n",
       "      <td>France</td>\n",
       "      <td>FRA</td>\n",
       "      <td>80'</td>\n",
       "      <td>80</td>\n",
       "      <td>0</td>\n",
       "      <td>second half</td>\n",
       "      <td>0</td>\n",
       "      <td>1</td>\n",
       "    </tr>\n",
       "    <tr>\n",
       "      <th>2717</th>\n",
       "      <td>2718</td>\n",
       "      <td>G-2718</td>\n",
       "      <td>WC-2022</td>\n",
       "      <td>2022 FIFA World Cup</td>\n",
       "      <td>M-2022-64</td>\n",
       "      <td>Argentina v France</td>\n",
       "      <td>12/18/2022</td>\n",
       "      <td>final</td>\n",
       "      <td>not applicable</td>\n",
       "      <td>T-28</td>\n",
       "      <td>...</td>\n",
       "      <td>10</td>\n",
       "      <td>T-28</td>\n",
       "      <td>France</td>\n",
       "      <td>FRA</td>\n",
       "      <td>81'</td>\n",
       "      <td>81</td>\n",
       "      <td>0</td>\n",
       "      <td>second half</td>\n",
       "      <td>0</td>\n",
       "      <td>0</td>\n",
       "    </tr>\n",
       "    <tr>\n",
       "      <th>2718</th>\n",
       "      <td>2719</td>\n",
       "      <td>G-2719</td>\n",
       "      <td>WC-2022</td>\n",
       "      <td>2022 FIFA World Cup</td>\n",
       "      <td>M-2022-64</td>\n",
       "      <td>Argentina v France</td>\n",
       "      <td>12/18/2022</td>\n",
       "      <td>final</td>\n",
       "      <td>not applicable</td>\n",
       "      <td>T-03</td>\n",
       "      <td>...</td>\n",
       "      <td>10</td>\n",
       "      <td>T-03</td>\n",
       "      <td>Argentina</td>\n",
       "      <td>ARG</td>\n",
       "      <td>108'</td>\n",
       "      <td>108</td>\n",
       "      <td>0</td>\n",
       "      <td>extra time, second half</td>\n",
       "      <td>0</td>\n",
       "      <td>0</td>\n",
       "    </tr>\n",
       "    <tr>\n",
       "      <th>2719</th>\n",
       "      <td>2720</td>\n",
       "      <td>G-2720</td>\n",
       "      <td>WC-2022</td>\n",
       "      <td>2022 FIFA World Cup</td>\n",
       "      <td>M-2022-64</td>\n",
       "      <td>Argentina v France</td>\n",
       "      <td>12/18/2022</td>\n",
       "      <td>final</td>\n",
       "      <td>not applicable</td>\n",
       "      <td>T-28</td>\n",
       "      <td>...</td>\n",
       "      <td>10</td>\n",
       "      <td>T-28</td>\n",
       "      <td>France</td>\n",
       "      <td>FRA</td>\n",
       "      <td>118'</td>\n",
       "      <td>118</td>\n",
       "      <td>0</td>\n",
       "      <td>extra time, second half</td>\n",
       "      <td>0</td>\n",
       "      <td>1</td>\n",
       "    </tr>\n",
       "  </tbody>\n",
       "</table>\n",
       "<p>2720 rows × 27 columns</p>\n",
       "</div>"
      ],
      "text/plain": [
       "      key_id goal_id tournament_id      tournament_name   match_id  \\\n",
       "0          1  G-0001       WC-1930  1930 FIFA World Cup  M-1930-01   \n",
       "1          2  G-0002       WC-1930  1930 FIFA World Cup  M-1930-01   \n",
       "2          3  G-0003       WC-1930  1930 FIFA World Cup  M-1930-01   \n",
       "3          4  G-0004       WC-1930  1930 FIFA World Cup  M-1930-01   \n",
       "4          5  G-0005       WC-1930  1930 FIFA World Cup  M-1930-01   \n",
       "...      ...     ...           ...                  ...        ...   \n",
       "2715    2716  G-2716       WC-2022  2022 FIFA World Cup  M-2022-64   \n",
       "2716    2717  G-2717       WC-2022  2022 FIFA World Cup  M-2022-64   \n",
       "2717    2718  G-2718       WC-2022  2022 FIFA World Cup  M-2022-64   \n",
       "2718    2719  G-2719       WC-2022  2022 FIFA World Cup  M-2022-64   \n",
       "2719    2720  G-2720       WC-2022  2022 FIFA World Cup  M-2022-64   \n",
       "\n",
       "              match_name  match_date   stage_name      group_name team_id  \\\n",
       "0        France v Mexico   7/13/1930  group stage         Group 1    T-28   \n",
       "1        France v Mexico   7/13/1930  group stage         Group 1    T-28   \n",
       "2        France v Mexico   7/13/1930  group stage         Group 1    T-28   \n",
       "3        France v Mexico   7/13/1930  group stage         Group 1    T-44   \n",
       "4        France v Mexico   7/13/1930  group stage         Group 1    T-28   \n",
       "...                  ...         ...          ...             ...     ...   \n",
       "2715  Argentina v France  12/18/2022        final  not applicable    T-03   \n",
       "2716  Argentina v France  12/18/2022        final  not applicable    T-28   \n",
       "2717  Argentina v France  12/18/2022        final  not applicable    T-28   \n",
       "2718  Argentina v France  12/18/2022        final  not applicable    T-03   \n",
       "2719  Argentina v France  12/18/2022        final  not applicable    T-28   \n",
       "\n",
       "      ... shirt_number player_team_id  player_team_name  player_team_code  \\\n",
       "0     ...            0           T-28            France               FRA   \n",
       "1     ...            0           T-28            France               FRA   \n",
       "2     ...            0           T-28            France               FRA   \n",
       "3     ...            0           T-44            Mexico               MEX   \n",
       "4     ...            0           T-28            France               FRA   \n",
       "...   ...          ...            ...               ...               ...   \n",
       "2715  ...           11           T-03         Argentina               ARG   \n",
       "2716  ...           10           T-28            France               FRA   \n",
       "2717  ...           10           T-28            France               FRA   \n",
       "2718  ...           10           T-03         Argentina               ARG   \n",
       "2719  ...           10           T-28            France               FRA   \n",
       "\n",
       "     minute_label minute_regulation minute_stoppage             match_period  \\\n",
       "0             19'                19               0               first half   \n",
       "1             40'                40               0               first half   \n",
       "2             43'                43               0               first half   \n",
       "3             70'                70               0              second half   \n",
       "4             87'                87               0              second half   \n",
       "...           ...               ...             ...                      ...   \n",
       "2715          36'                36               0               first half   \n",
       "2716          80'                80               0              second half   \n",
       "2717          81'                81               0              second half   \n",
       "2718         108'               108               0  extra time, second half   \n",
       "2719         118'               118               0  extra time, second half   \n",
       "\n",
       "     own_goal penalty  \n",
       "0           0       0  \n",
       "1           0       0  \n",
       "2           0       0  \n",
       "3           0       0  \n",
       "4           0       0  \n",
       "...       ...     ...  \n",
       "2715        0       0  \n",
       "2716        0       1  \n",
       "2717        0       0  \n",
       "2718        0       0  \n",
       "2719        0       1  \n",
       "\n",
       "[2720 rows x 27 columns]"
      ]
     },
     "execution_count": 1,
     "metadata": {},
     "output_type": "execute_result"
    }
   ],
   "source": [
    "import pandas as pd\n",
    "import seaborn as sns\n",
    "import matplotlib.pyplot as plt\n",
    "\n",
    "df = pd.read_csv('/kaggle/input/fifa-world-cup-all-goals-1930-2022-dataset/FIFA World Cup All Goals 1930-2022.csv', encoding='latin-1')\n",
    "df"
   ]
  },
  {
   "cell_type": "markdown",
   "id": "0fcac894",
   "metadata": {
    "papermill": {
     "duration": 0.004814,
     "end_time": "2023-05-16T19:20:44.371534",
     "exception": false,
     "start_time": "2023-05-16T19:20:44.366720",
     "status": "completed"
    },
    "tags": []
   },
   "source": [
    "# Which team has scored the most goals:"
   ]
  },
  {
   "cell_type": "code",
   "execution_count": 2,
   "id": "77f4a917",
   "metadata": {
    "execution": {
     "iopub.execute_input": "2023-05-16T19:20:44.384312Z",
     "iopub.status.busy": "2023-05-16T19:20:44.383057Z",
     "iopub.status.idle": "2023-05-16T19:20:44.396139Z",
     "shell.execute_reply": "2023-05-16T19:20:44.394534Z"
    },
    "papermill": {
     "duration": 0.022172,
     "end_time": "2023-05-16T19:20:44.398835",
     "exception": false,
     "start_time": "2023-05-16T19:20:44.376663",
     "status": "completed"
    },
    "tags": []
   },
   "outputs": [
    {
     "name": "stdout",
     "output_type": "stream",
     "text": [
      "Brazil has scored the most goals in World Cup history.\n"
     ]
    }
   ],
   "source": [
    "# group by team name and count goals in desc order\n",
    "goals_by_team = df.groupby('team_name')['goal_id'].count()\n",
    "goals_by_team = goals_by_team.sort_values(ascending=False)\n",
    "print(f'{goals_by_team.index[0]} has scored the most goals in World Cup history.')"
   ]
  },
  {
   "cell_type": "markdown",
   "id": "9a169516",
   "metadata": {
    "papermill": {
     "duration": 0.005185,
     "end_time": "2023-05-16T19:20:44.409440",
     "exception": false,
     "start_time": "2023-05-16T19:20:44.404255",
     "status": "completed"
    },
    "tags": []
   },
   "source": [
    "# Which player has scored the most goals:"
   ]
  },
  {
   "cell_type": "code",
   "execution_count": 3,
   "id": "e23166dc",
   "metadata": {
    "execution": {
     "iopub.execute_input": "2023-05-16T19:20:44.421692Z",
     "iopub.status.busy": "2023-05-16T19:20:44.421308Z",
     "iopub.status.idle": "2023-05-16T19:20:44.435115Z",
     "shell.execute_reply": "2023-05-16T19:20:44.433796Z"
    },
    "papermill": {
     "duration": 0.023156,
     "end_time": "2023-05-16T19:20:44.437833",
     "exception": false,
     "start_time": "2023-05-16T19:20:44.414677",
     "status": "completed"
    },
    "tags": []
   },
   "outputs": [
    {
     "name": "stdout",
     "output_type": "stream",
     "text": [
      "Miroslav Klose has scored the most goals in World Cup history.\n"
     ]
    }
   ],
   "source": [
    "# create 'full_name' column\n",
    "df['full_name'] = df['given_name'] + ' ' + df['family_name']\n",
    "\n",
    "# group by player name and count goals in desc order\n",
    "goals_by_player = df.groupby('full_name')['goal_id'].count()\n",
    "goals_by_player = goals_by_player.sort_values(ascending=False)\n",
    "print(f'{goals_by_player.index[0]} has scored the most goals in World Cup history.')"
   ]
  },
  {
   "cell_type": "markdown",
   "id": "bb5b0299",
   "metadata": {
    "papermill": {
     "duration": 0.005036,
     "end_time": "2023-05-16T19:20:44.448378",
     "exception": false,
     "start_time": "2023-05-16T19:20:44.443342",
     "status": "completed"
    },
    "tags": []
   },
   "source": [
    "# Percentage of goals scored in the first/second half:"
   ]
  },
  {
   "cell_type": "code",
   "execution_count": 4,
   "id": "0c1a6259",
   "metadata": {
    "execution": {
     "iopub.execute_input": "2023-05-16T19:20:44.460936Z",
     "iopub.status.busy": "2023-05-16T19:20:44.460537Z",
     "iopub.status.idle": "2023-05-16T19:20:44.473826Z",
     "shell.execute_reply": "2023-05-16T19:20:44.472471Z"
    },
    "papermill": {
     "duration": 0.022889,
     "end_time": "2023-05-16T19:20:44.476560",
     "exception": false,
     "start_time": "2023-05-16T19:20:44.453671",
     "status": "completed"
    },
    "tags": []
   },
   "outputs": [
    {
     "name": "stdout",
     "output_type": "stream",
     "text": [
      "40.92% of goals were scored in the first half.\n",
      "52.39% of goals were scored in the second half.\n",
      "6.69% of goals were scored in overtime.\n"
     ]
    }
   ],
   "source": [
    "# count goals scored in each period\n",
    "goals_by_period = df['match_period'].value_counts()\n",
    "\n",
    "# % of goals in each period\n",
    "percent_firsthalf = round(goals_by_period['first half'] / len(df) * 100, 2)\n",
    "percent_secondhalf = round(goals_by_period['second half'] / len(df) * 100, 2)\n",
    "percent_overtime = round(100 - percent_firsthalf - percent_secondhalf, 2)\n",
    "\n",
    "print(f'{percent_firsthalf}% of goals were scored in the first half.')\n",
    "print(f'{percent_secondhalf}% of goals were scored in the second half.')\n",
    "print(f'{percent_overtime}% of goals were scored in overtime.')"
   ]
  },
  {
   "cell_type": "markdown",
   "id": "0e626f55",
   "metadata": {
    "papermill": {
     "duration": 0.005113,
     "end_time": "2023-05-16T19:20:44.487103",
     "exception": false,
     "start_time": "2023-05-16T19:20:44.481990",
     "status": "completed"
    },
    "tags": []
   },
   "source": [
    "# Trend of own-goals and penalties over time:"
   ]
  },
  {
   "cell_type": "code",
   "execution_count": 5,
   "id": "a11d112d",
   "metadata": {
    "execution": {
     "iopub.execute_input": "2023-05-16T19:20:44.499678Z",
     "iopub.status.busy": "2023-05-16T19:20:44.499293Z",
     "iopub.status.idle": "2023-05-16T19:20:44.910764Z",
     "shell.execute_reply": "2023-05-16T19:20:44.909543Z"
    },
    "papermill": {
     "duration": 0.421407,
     "end_time": "2023-05-16T19:20:44.914010",
     "exception": false,
     "start_time": "2023-05-16T19:20:44.492603",
     "status": "completed"
    },
    "tags": []
   },
   "outputs": [
    {
     "data": {
      "image/png": "[encoded data removed]",
      "text/plain": [
       "<Figure size 640x480 with 1 Axes>"
      ]
     },
     "metadata": {},
     "output_type": "display_data"
    }
   ],
   "source": [
    "# group by year and sum own_goal and penalty column\n",
    "df['match_year'] = pd.to_datetime(df['match_date']).dt.year\n",
    "df_yearly = df.groupby('match_year')[['own_goal', 'penalty']].sum()\n",
    "\n",
    "# create line chart\n",
    "sns.set_style('darkgrid')\n",
    "plt.plot(df_yearly.index, df_yearly['own_goal'], label='Own Goal')\n",
    "plt.plot(df_yearly.index, df_yearly['penalty'], label='Penalty')\n",
    "plt.xlabel('Year')\n",
    "plt.ylabel('Count')\n",
    "plt.title('Trend of Own Goals and Penalties')\n",
    "plt.legend()\n",
    "plt.show()"
   ]
  },
  {
   "cell_type": "markdown",
   "id": "87ccf189",
   "metadata": {
    "papermill": {
     "duration": 0.006144,
     "end_time": "2023-05-16T19:20:44.926698",
     "exception": false,
     "start_time": "2023-05-16T19:20:44.920554",
     "status": "completed"
    },
    "tags": []
   },
   "source": [
    "# Tournament goal statistics:"
   ]
  },
  {
   "cell_type": "code",
   "execution_count": 6,
   "id": "a0173ab5",
   "metadata": {
    "execution": {
     "iopub.execute_input": "2023-05-16T19:20:44.942578Z",
     "iopub.status.busy": "2023-05-16T19:20:44.942085Z",
     "iopub.status.idle": "2023-05-16T19:20:44.961065Z",
     "shell.execute_reply": "2023-05-16T19:20:44.959984Z"
    },
    "papermill": {
     "duration": 0.031087,
     "end_time": "2023-05-16T19:20:44.964360",
     "exception": false,
     "start_time": "2023-05-16T19:20:44.933273",
     "status": "completed"
    },
    "tags": []
   },
   "outputs": [
    {
     "name": "stdout",
     "output_type": "stream",
     "text": [
      "The 2022 FIFA World Cup tournament has the most goals in World Cup history with a total of 172 goals.\n",
      "On average, there were 3.02 goals scored per match.\n"
     ]
    }
   ],
   "source": [
    "# group by tournament w number of goals and matches\n",
    "goals_by_tournament = df.groupby('tournament_name').agg({'goal_id': 'count', 'match_id': 'nunique'})\n",
    "\n",
    "# calculate avg goals per match\n",
    "goals_by_tournament['avg_goals_per_match'] = goals_by_tournament['goal_id'] / goals_by_tournament['match_id']\n",
    "\n",
    "# sort in desc order\n",
    "goals_by_tournament = goals_by_tournament.sort_values(by='goal_id', ascending=False)\n",
    "\n",
    "# get most goals by tournament and avg by match\n",
    "most_goals_tournament = goals_by_tournament.index[0]\n",
    "most_goals_count = goals_by_tournament.loc[most_goals_tournament, 'goal_id']\n",
    "most_goals_avg = goals_by_tournament.loc[most_goals_tournament, 'avg_goals_per_match']\n",
    "\n",
    "print(f'The {most_goals_tournament} tournament has the most goals in World Cup history with a total of {most_goals_count} goals.')\n",
    "print(f'On average, there were {most_goals_avg:.2f} goals scored per match.')"
   ]
  }
 ],
 "metadata": {
  "kernelspec": {
   "display_name": "Python 3",
   "language": "python",
   "name": "python3"
  },
  "language_info": {
   "codemirror_mode": {
    "name": "ipython",
    "version": 3
   },
   "file_extension": ".py",
   "mimetype": "text/x-python",
   "name": "python",
   "nbconvert_exporter": "python",
   "pygments_lexer": "ipython3",
   "version": "3.10.10"
  },
  "papermill": {
   "default_parameters": {},
   "duration": 22.071507,
   "end_time": "2023-05-16T19:20:46.499854",
   "environment_variables": {},
   "exception": null,
   "input_path": "__notebook__.ipynb",
   "output_path": "__notebook__.ipynb",
   "parameters": {},
   "start_time": "2023-05-16T19:20:24.428347",
   "version": "2.4.0"
  }
 },
 "nbformat": 4,
 "nbformat_minor": 5
}
