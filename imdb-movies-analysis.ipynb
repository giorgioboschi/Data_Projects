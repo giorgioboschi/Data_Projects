{
 "cells": [
  {
   "cell_type": "markdown",
   "id": "9ec24c45",
   "metadata": {
    "papermill": {
     "duration": 0.007184,
     "end_time": "2023-05-16T19:24:36.640887",
     "exception": false,
     "start_time": "2023-05-16T19:24:36.633703",
     "status": "completed"
    },
    "tags": []
   },
   "source": [
    "# Importing lirbaries and showing the dataframe:"
   ]
  },
  {
   "cell_type": "code",
   "execution_count": 1,
   "id": "44ff2b48",
   "metadata": {
    "_cell_guid": "b1076dfc-b9ad-4769-8c92-a6c4dae69d19",
    "_uuid": "8f2839f25d086af736a60e9eeb907d3b93b6e0e5",
    "execution": {
     "iopub.execute_input": "2023-05-16T19:24:36.656883Z",
     "iopub.status.busy": "2023-05-16T19:24:36.656467Z",
     "iopub.status.idle": "2023-05-16T19:24:36.950524Z",
     "shell.execute_reply": "2023-05-16T19:24:36.949382Z"
    },
    "papermill": {
     "duration": 0.306475,
     "end_time": "2023-05-16T19:24:36.954341",
     "exception": false,
     "start_time": "2023-05-16T19:24:36.647866",
     "status": "completed"
    },
    "tags": []
   },
   "outputs": [
    {
     "data": {
      "text/html": [
       "<div>\n",
       "<style scoped>\n",
       "    .dataframe tbody tr th:only-of-type {\n",
       "        vertical-align: middle;\n",
       "    }\n",
       "\n",
       "    .dataframe tbody tr th {\n",
       "        vertical-align: top;\n",
       "    }\n",
       "\n",
       "    .dataframe thead th {\n",
       "        text-align: right;\n",
       "    }\n",
       "</style>\n",
       "<table border=\"1\" class=\"dataframe\">\n",
       "  <thead>\n",
       "    <tr style=\"text-align: right;\">\n",
       "      <th></th>\n",
       "      <th>id</th>\n",
       "      <th>title</th>\n",
       "      <th>release_date</th>\n",
       "      <th>genres</th>\n",
       "      <th>original_language</th>\n",
       "      <th>vote_average</th>\n",
       "      <th>vote_count</th>\n",
       "      <th>popularity</th>\n",
       "      <th>overview</th>\n",
       "      <th>budget</th>\n",
       "      <th>production_companies</th>\n",
       "      <th>revenue</th>\n",
       "      <th>runtime</th>\n",
       "      <th>tagline</th>\n",
       "    </tr>\n",
       "  </thead>\n",
       "  <tbody>\n",
       "    <tr>\n",
       "      <th>0</th>\n",
       "      <td>758323</td>\n",
       "      <td>The Pope's Exorcist</td>\n",
       "      <td>2023-04-05</td>\n",
       "      <td>['Horror', 'Mystery', 'Thriller']</td>\n",
       "      <td>English</td>\n",
       "      <td>7.4</td>\n",
       "      <td>619</td>\n",
       "      <td>5089.969</td>\n",
       "      <td>Father Gabriele Amorth, Chief Exorcist of the ...</td>\n",
       "      <td>18000000</td>\n",
       "      <td>['Screen Gems', '2.0 Entertainment', 'Jesus &amp; ...</td>\n",
       "      <td>65675816</td>\n",
       "      <td>103</td>\n",
       "      <td>Inspired by the actual files of Father Gabriel...</td>\n",
       "    </tr>\n",
       "    <tr>\n",
       "      <th>1</th>\n",
       "      <td>640146</td>\n",
       "      <td>Ant-Man and the Wasp: Quantumania</td>\n",
       "      <td>2023-02-15</td>\n",
       "      <td>['Action', 'Adventure', 'Science Fiction']</td>\n",
       "      <td>English</td>\n",
       "      <td>6.6</td>\n",
       "      <td>2294</td>\n",
       "      <td>4665.438</td>\n",
       "      <td>Super-Hero partners Scott Lang and Hope van Dy...</td>\n",
       "      <td>200000000</td>\n",
       "      <td>['Marvel Studios', 'Kevin Feige Productions']</td>\n",
       "      <td>464566092</td>\n",
       "      <td>125</td>\n",
       "      <td>Witness the beginning of a new dynasty.</td>\n",
       "    </tr>\n",
       "    <tr>\n",
       "      <th>2</th>\n",
       "      <td>502356</td>\n",
       "      <td>The Super Mario Bros. Movie</td>\n",
       "      <td>2023-04-05</td>\n",
       "      <td>['Animation', 'Adventure', 'Family', 'Fantasy'...</td>\n",
       "      <td>English</td>\n",
       "      <td>7.5</td>\n",
       "      <td>1861</td>\n",
       "      <td>3935.550</td>\n",
       "      <td>While working underground to fix a water main,...</td>\n",
       "      <td>100000000</td>\n",
       "      <td>['Universal Pictures', 'Illumination', 'Ninten...</td>\n",
       "      <td>1121048165</td>\n",
       "      <td>92</td>\n",
       "      <td>NaN</td>\n",
       "    </tr>\n",
       "    <tr>\n",
       "      <th>3</th>\n",
       "      <td>868759</td>\n",
       "      <td>Ghosted</td>\n",
       "      <td>2023-04-18</td>\n",
       "      <td>['Action', 'Comedy', 'Romance']</td>\n",
       "      <td>English</td>\n",
       "      <td>7.2</td>\n",
       "      <td>652</td>\n",
       "      <td>2791.532</td>\n",
       "      <td>Salt-of-the-earth Cole falls head over heels f...</td>\n",
       "      <td>0</td>\n",
       "      <td>['Skydance Media', 'Apple Studios']</td>\n",
       "      <td>0</td>\n",
       "      <td>120</td>\n",
       "      <td>Finding that special someone can be a real adv...</td>\n",
       "    </tr>\n",
       "    <tr>\n",
       "      <th>4</th>\n",
       "      <td>594767</td>\n",
       "      <td>Shazam! Fury of the Gods</td>\n",
       "      <td>2023-03-15</td>\n",
       "      <td>['Action', 'Comedy', 'Fantasy', 'Adventure']</td>\n",
       "      <td>English</td>\n",
       "      <td>6.8</td>\n",
       "      <td>1510</td>\n",
       "      <td>2702.593</td>\n",
       "      <td>Billy Batson and his foster siblings, who tran...</td>\n",
       "      <td>125000000</td>\n",
       "      <td>['New Line Cinema', 'The Safran Company', 'DC ...</td>\n",
       "      <td>133437105</td>\n",
       "      <td>130</td>\n",
       "      <td>Oh. My. Gods.</td>\n",
       "    </tr>\n",
       "    <tr>\n",
       "      <th>...</th>\n",
       "      <td>...</td>\n",
       "      <td>...</td>\n",
       "      <td>...</td>\n",
       "      <td>...</td>\n",
       "      <td>...</td>\n",
       "      <td>...</td>\n",
       "      <td>...</td>\n",
       "      <td>...</td>\n",
       "      <td>...</td>\n",
       "      <td>...</td>\n",
       "      <td>...</td>\n",
       "      <td>...</td>\n",
       "      <td>...</td>\n",
       "      <td>...</td>\n",
       "    </tr>\n",
       "    <tr>\n",
       "      <th>9995</th>\n",
       "      <td>374473</td>\n",
       "      <td>I, Daniel Blake</td>\n",
       "      <td>2016-10-21</td>\n",
       "      <td>['Drama']</td>\n",
       "      <td>English</td>\n",
       "      <td>7.7</td>\n",
       "      <td>1220</td>\n",
       "      <td>10.774</td>\n",
       "      <td>A middle aged carpenter, who requires state we...</td>\n",
       "      <td>0</td>\n",
       "      <td>['Why Not Productions', 'Wild Bunch', 'Sixteen...</td>\n",
       "      <td>15793051</td>\n",
       "      <td>100</td>\n",
       "      <td>NaN</td>\n",
       "    </tr>\n",
       "    <tr>\n",
       "      <th>9996</th>\n",
       "      <td>16774</td>\n",
       "      <td>Hellboy Animated: Sword of Storms</td>\n",
       "      <td>2006-10-28</td>\n",
       "      <td>['TV Movie', 'Fantasy', 'Animation', 'Action',...</td>\n",
       "      <td>English</td>\n",
       "      <td>6.3</td>\n",
       "      <td>99</td>\n",
       "      <td>12.739</td>\n",
       "      <td>A folklore professor becomes unwittingly posse...</td>\n",
       "      <td>0</td>\n",
       "      <td>['IDT Entertainment', 'Film Roman']</td>\n",
       "      <td>0</td>\n",
       "      <td>73</td>\n",
       "      <td>NaN</td>\n",
       "    </tr>\n",
       "    <tr>\n",
       "      <th>9997</th>\n",
       "      <td>13564</td>\n",
       "      <td>Return to House on Haunted Hill</td>\n",
       "      <td>2007-10-03</td>\n",
       "      <td>['Horror', 'Thriller']</td>\n",
       "      <td>English</td>\n",
       "      <td>5.6</td>\n",
       "      <td>263</td>\n",
       "      <td>12.769</td>\n",
       "      <td>Eight years have passed since Sara Wolfe and E...</td>\n",
       "      <td>0</td>\n",
       "      <td>['Dark Castle Entertainment', 'Warner Premiere']</td>\n",
       "      <td>0</td>\n",
       "      <td>81</td>\n",
       "      <td>NaN</td>\n",
       "    </tr>\n",
       "    <tr>\n",
       "      <th>9998</th>\n",
       "      <td>482204</td>\n",
       "      <td>My Sister-in-law's Job</td>\n",
       "      <td>2017-08-31</td>\n",
       "      <td>['Drama', 'Romance']</td>\n",
       "      <td>Korean</td>\n",
       "      <td>5.0</td>\n",
       "      <td>5</td>\n",
       "      <td>10.425</td>\n",
       "      <td>An erotic film that depicts the dangerous rela...</td>\n",
       "      <td>0</td>\n",
       "      <td>[]</td>\n",
       "      <td>0</td>\n",
       "      <td>89</td>\n",
       "      <td>NaN</td>\n",
       "    </tr>\n",
       "    <tr>\n",
       "      <th>9999</th>\n",
       "      <td>444539</td>\n",
       "      <td>The Bookshop</td>\n",
       "      <td>2017-11-10</td>\n",
       "      <td>['Drama']</td>\n",
       "      <td>English</td>\n",
       "      <td>6.5</td>\n",
       "      <td>382</td>\n",
       "      <td>12.525</td>\n",
       "      <td>Set in a small English town in 1959, a woman d...</td>\n",
       "      <td>5400000</td>\n",
       "      <td>['Zephyr Films', 'A Contracorriente Films', 'D...</td>\n",
       "      <td>12055868</td>\n",
       "      <td>110</td>\n",
       "      <td>A town that lacks a bookshop isn't always a to...</td>\n",
       "    </tr>\n",
       "  </tbody>\n",
       "</table>\n",
       "<p>10000 rows × 14 columns</p>\n",
       "</div>"
      ],
      "text/plain": [
       "          id                              title release_date  \\\n",
       "0     758323                The Pope's Exorcist   2023-04-05   \n",
       "1     640146  Ant-Man and the Wasp: Quantumania   2023-02-15   \n",
       "2     502356        The Super Mario Bros. Movie   2023-04-05   \n",
       "3     868759                            Ghosted   2023-04-18   \n",
       "4     594767           Shazam! Fury of the Gods   2023-03-15   \n",
       "...      ...                                ...          ...   \n",
       "9995  374473                    I, Daniel Blake   2016-10-21   \n",
       "9996   16774  Hellboy Animated: Sword of Storms   2006-10-28   \n",
       "9997   13564    Return to House on Haunted Hill   2007-10-03   \n",
       "9998  482204             My Sister-in-law's Job   2017-08-31   \n",
       "9999  444539                       The Bookshop   2017-11-10   \n",
       "\n",
       "                                                 genres original_language  \\\n",
       "0                     ['Horror', 'Mystery', 'Thriller']           English   \n",
       "1            ['Action', 'Adventure', 'Science Fiction']           English   \n",
       "2     ['Animation', 'Adventure', 'Family', 'Fantasy'...           English   \n",
       "3                       ['Action', 'Comedy', 'Romance']           English   \n",
       "4          ['Action', 'Comedy', 'Fantasy', 'Adventure']           English   \n",
       "...                                                 ...               ...   \n",
       "9995                                          ['Drama']           English   \n",
       "9996  ['TV Movie', 'Fantasy', 'Animation', 'Action',...           English   \n",
       "9997                             ['Horror', 'Thriller']           English   \n",
       "9998                               ['Drama', 'Romance']            Korean   \n",
       "9999                                          ['Drama']           English   \n",
       "\n",
       "      vote_average  vote_count  popularity  \\\n",
       "0              7.4         619    5089.969   \n",
       "1              6.6        2294    4665.438   \n",
       "2              7.5        1861    3935.550   \n",
       "3              7.2         652    2791.532   \n",
       "4              6.8        1510    2702.593   \n",
       "...            ...         ...         ...   \n",
       "9995           7.7        1220      10.774   \n",
       "9996           6.3          99      12.739   \n",
       "9997           5.6         263      12.769   \n",
       "9998           5.0           5      10.425   \n",
       "9999           6.5         382      12.525   \n",
       "\n",
       "                                               overview     budget  \\\n",
       "0     Father Gabriele Amorth, Chief Exorcist of the ...   18000000   \n",
       "1     Super-Hero partners Scott Lang and Hope van Dy...  200000000   \n",
       "2     While working underground to fix a water main,...  100000000   \n",
       "3     Salt-of-the-earth Cole falls head over heels f...          0   \n",
       "4     Billy Batson and his foster siblings, who tran...  125000000   \n",
       "...                                                 ...        ...   \n",
       "9995  A middle aged carpenter, who requires state we...          0   \n",
       "9996  A folklore professor becomes unwittingly posse...          0   \n",
       "9997  Eight years have passed since Sara Wolfe and E...          0   \n",
       "9998  An erotic film that depicts the dangerous rela...          0   \n",
       "9999  Set in a small English town in 1959, a woman d...    5400000   \n",
       "\n",
       "                                   production_companies     revenue  runtime  \\\n",
       "0     ['Screen Gems', '2.0 Entertainment', 'Jesus & ...    65675816      103   \n",
       "1         ['Marvel Studios', 'Kevin Feige Productions']   464566092      125   \n",
       "2     ['Universal Pictures', 'Illumination', 'Ninten...  1121048165       92   \n",
       "3                   ['Skydance Media', 'Apple Studios']           0      120   \n",
       "4     ['New Line Cinema', 'The Safran Company', 'DC ...   133437105      130   \n",
       "...                                                 ...         ...      ...   \n",
       "9995  ['Why Not Productions', 'Wild Bunch', 'Sixteen...    15793051      100   \n",
       "9996                ['IDT Entertainment', 'Film Roman']           0       73   \n",
       "9997   ['Dark Castle Entertainment', 'Warner Premiere']           0       81   \n",
       "9998                                                 []           0       89   \n",
       "9999  ['Zephyr Films', 'A Contracorriente Films', 'D...    12055868      110   \n",
       "\n",
       "                                                tagline  \n",
       "0     Inspired by the actual files of Father Gabriel...  \n",
       "1               Witness the beginning of a new dynasty.  \n",
       "2                                                   NaN  \n",
       "3     Finding that special someone can be a real adv...  \n",
       "4                                         Oh. My. Gods.  \n",
       "...                                                 ...  \n",
       "9995                                                NaN  \n",
       "9996                                                NaN  \n",
       "9997                                                NaN  \n",
       "9998                                                NaN  \n",
       "9999  A town that lacks a bookshop isn't always a to...  \n",
       "\n",
       "[10000 rows x 14 columns]"
      ]
     },
     "execution_count": 1,
     "metadata": {},
     "output_type": "execute_result"
    }
   ],
   "source": [
    "# importing libraries and reading the csv\n",
    "\n",
    "import pandas as pd\n",
    "import matplotlib.pyplot as plt\n",
    "\n",
    "df = pd.read_csv('/kaggle/input/top-10000-popular-movies-tmdb-05-2023/popular_10000_movies_tmdb.csv')\n",
    "df"
   ]
  },
  {
   "cell_type": "markdown",
   "id": "988f8e3d",
   "metadata": {
    "papermill": {
     "duration": 0.006956,
     "end_time": "2023-05-16T19:24:36.968532",
     "exception": false,
     "start_time": "2023-05-16T19:24:36.961576",
     "status": "completed"
    },
    "tags": []
   },
   "source": [
    "# Which movie has the longest runtime:"
   ]
  },
  {
   "cell_type": "code",
   "execution_count": 2,
   "id": "edcf71d5",
   "metadata": {
    "execution": {
     "iopub.execute_input": "2023-05-16T19:24:36.985778Z",
     "iopub.status.busy": "2023-05-16T19:24:36.985273Z",
     "iopub.status.idle": "2023-05-16T19:24:36.993140Z",
     "shell.execute_reply": "2023-05-16T19:24:36.991742Z"
    },
    "papermill": {
     "duration": 0.022112,
     "end_time": "2023-05-16T19:24:36.997857",
     "exception": false,
     "start_time": "2023-05-16T19:24:36.975745",
     "status": "completed"
    },
    "tags": []
   },
   "outputs": [
    {
     "name": "stdout",
     "output_type": "stream",
     "text": [
      "Blood Curse is the movie with the longest runtime at 449 minutes.\n"
     ]
    }
   ],
   "source": [
    "# finding movie with the longest runtime in the dataset\n",
    "\n",
    "longest_runtime = df.loc[df['runtime'].idxmax(), 'title']\n",
    "longest_runtime_minutes = df.loc[df['runtime'].idxmax(), 'runtime']\n",
    "\n",
    "print(f'{longest_runtime} is the movie with the longest runtime at {longest_runtime_minutes} minutes.')"
   ]
  },
  {
   "cell_type": "markdown",
   "id": "7d889f62",
   "metadata": {
    "papermill": {
     "duration": 0.007435,
     "end_time": "2023-05-16T19:24:37.013338",
     "exception": false,
     "start_time": "2023-05-16T19:24:37.005903",
     "status": "completed"
    },
    "tags": []
   },
   "source": [
    "# Average critique vote count per movie:"
   ]
  },
  {
   "cell_type": "code",
   "execution_count": 3,
   "id": "1e5d791b",
   "metadata": {
    "execution": {
     "iopub.execute_input": "2023-05-16T19:24:37.030650Z",
     "iopub.status.busy": "2023-05-16T19:24:37.029870Z",
     "iopub.status.idle": "2023-05-16T19:24:37.038079Z",
     "shell.execute_reply": "2023-05-16T19:24:37.036337Z"
    },
    "papermill": {
     "duration": 0.020396,
     "end_time": "2023-05-16T19:24:37.041145",
     "exception": false,
     "start_time": "2023-05-16T19:24:37.020749",
     "status": "completed"
    },
    "tags": []
   },
   "outputs": [
    {
     "name": "stdout",
     "output_type": "stream",
     "text": [
      "On average, there are 1,527 votes per movie.\n"
     ]
    }
   ],
   "source": [
    "# finding average vote count for movies\n",
    "\n",
    "average_vote_count = round(df['vote_count'].mean())\n",
    "average_vote_count = '{:,}'.format(average_vote_count)\n",
    "\n",
    "print(f'On average, there are {average_vote_count} votes per movie.')"
   ]
  },
  {
   "cell_type": "markdown",
   "id": "5aee0cbc",
   "metadata": {
    "papermill": {
     "duration": 0.007142,
     "end_time": "2023-05-16T19:24:37.055680",
     "exception": false,
     "start_time": "2023-05-16T19:24:37.048538",
     "status": "completed"
    },
    "tags": []
   },
   "source": [
    "# Average budget and revenue per movie:"
   ]
  },
  {
   "cell_type": "code",
   "execution_count": 4,
   "id": "4a16e4a9",
   "metadata": {
    "execution": {
     "iopub.execute_input": "2023-05-16T19:24:37.072931Z",
     "iopub.status.busy": "2023-05-16T19:24:37.071738Z",
     "iopub.status.idle": "2023-05-16T19:24:37.081142Z",
     "shell.execute_reply": "2023-05-16T19:24:37.079501Z"
    },
    "papermill": {
     "duration": 0.02067,
     "end_time": "2023-05-16T19:24:37.083759",
     "exception": false,
     "start_time": "2023-05-16T19:24:37.063089",
     "status": "completed"
    },
    "tags": []
   },
   "outputs": [
    {
     "name": "stdout",
     "output_type": "stream",
     "text": [
      "On average, each movie has a budget of $19,504,571 and generates $59,769,260.\n"
     ]
    }
   ],
   "source": [
    "# finding average budget and revenue per movie\n",
    "\n",
    "average_budget = round(df['budget'].mean())\n",
    "average_budget = '{:,}'.format(average_budget)\n",
    "\n",
    "average_revenue = round(df['revenue'].mean())\n",
    "average_revenue = '{:,}'.format(average_revenue)\n",
    "\n",
    "print(f'On average, each movie has a budget of ${average_budget} and generates ${average_revenue}.')"
   ]
  },
  {
   "cell_type": "markdown",
   "id": "54f59601",
   "metadata": {
    "papermill": {
     "duration": 0.007422,
     "end_time": "2023-05-16T19:24:37.098508",
     "exception": false,
     "start_time": "2023-05-16T19:24:37.091086",
     "status": "completed"
    },
    "tags": []
   },
   "source": [
    "# Most common movie genre:"
   ]
  },
  {
   "cell_type": "code",
   "execution_count": 5,
   "id": "ad7b45d0",
   "metadata": {
    "execution": {
     "iopub.execute_input": "2023-05-16T19:24:37.115532Z",
     "iopub.status.busy": "2023-05-16T19:24:37.115107Z",
     "iopub.status.idle": "2023-05-16T19:24:37.134254Z",
     "shell.execute_reply": "2023-05-16T19:24:37.133085Z"
    },
    "papermill": {
     "duration": 0.030758,
     "end_time": "2023-05-16T19:24:37.137173",
     "exception": false,
     "start_time": "2023-05-16T19:24:37.106415",
     "status": "completed"
    },
    "tags": []
   },
   "outputs": [
    {
     "name": "stdout",
     "output_type": "stream",
     "text": [
      "Drama is the most common movie genre.\n"
     ]
    }
   ],
   "source": [
    "# finding which genre has the most movies\n",
    "\n",
    "genre_count = df['genres'].explode().value_counts()\n",
    "most_common_genre = genre_count.idxmax()\n",
    "most_common_genre = most_common_genre.strip(\"['']\")\n",
    "\n",
    "print(f'{most_common_genre} is the most common movie genre.')"
   ]
  },
  {
   "cell_type": "markdown",
   "id": "932bd258",
   "metadata": {
    "papermill": {
     "duration": 0.007057,
     "end_time": "2023-05-16T19:24:37.151562",
     "exception": false,
     "start_time": "2023-05-16T19:24:37.144505",
     "status": "completed"
    },
    "tags": []
   },
   "source": [
    "# Production company that has produced the most movies:"
   ]
  },
  {
   "cell_type": "code",
   "execution_count": 6,
   "id": "c8d041cd",
   "metadata": {
    "execution": {
     "iopub.execute_input": "2023-05-16T19:24:37.169253Z",
     "iopub.status.busy": "2023-05-16T19:24:37.167845Z",
     "iopub.status.idle": "2023-05-16T19:24:37.193168Z",
     "shell.execute_reply": "2023-05-16T19:24:37.191432Z"
    },
    "papermill": {
     "duration": 0.037132,
     "end_time": "2023-05-16T19:24:37.196042",
     "exception": false,
     "start_time": "2023-05-16T19:24:37.158910",
     "status": "completed"
    },
    "tags": []
   },
   "outputs": [
    {
     "name": "stdout",
     "output_type": "stream",
     "text": [
      "Paramount is the company that has produced the most movies, with 60 completed movies.\n"
     ]
    }
   ],
   "source": [
    "# finding which production company has made the most movies\n",
    "\n",
    "prod_company_counts = df['production_companies'].explode().value_counts()\n",
    "prod_company_counts = prod_company_counts.drop('[]')\n",
    "most_common_prod_company = prod_company_counts.idxmax()\n",
    "most_common_prod_company = most_common_prod_company.strip(\"['']\")\n",
    "\n",
    "most_common_prod_company_movies = prod_company_counts.max()\n",
    "\n",
    "print(f'{most_common_prod_company} is the company that has produced the most movies, with {most_common_prod_company_movies} completed movies.')"
   ]
  },
  {
   "cell_type": "markdown",
   "id": "d5273f2f",
   "metadata": {
    "papermill": {
     "duration": 0.007765,
     "end_time": "2023-05-16T19:24:37.211594",
     "exception": false,
     "start_time": "2023-05-16T19:24:37.203829",
     "status": "completed"
    },
    "tags": []
   },
   "source": [
    "# Top 10 years with the most movie released:"
   ]
  },
  {
   "cell_type": "code",
   "execution_count": 7,
   "id": "15d55623",
   "metadata": {
    "execution": {
     "iopub.execute_input": "2023-05-16T19:24:37.228798Z",
     "iopub.status.busy": "2023-05-16T19:24:37.228341Z",
     "iopub.status.idle": "2023-05-16T19:24:37.641764Z",
     "shell.execute_reply": "2023-05-16T19:24:37.640517Z"
    },
    "papermill": {
     "duration": 0.425628,
     "end_time": "2023-05-16T19:24:37.644843",
     "exception": false,
     "start_time": "2023-05-16T19:24:37.219215",
     "status": "completed"
    },
    "tags": []
   },
   "outputs": [
    {
     "data": {
      "image/png": "[encoded data removed]",
      "text/plain": [
       "<Figure size 1000x600 with 1 Axes>"
      ]
     },
     "metadata": {},
     "output_type": "display_data"
    }
   ],
   "source": [
    "# finding top 10 years with most movies released\n",
    "\n",
    "df['release_year'] = pd.to_datetime(df['release_date']).dt.year\n",
    "year_counts = df['release_year'].value_counts().head(10)\n",
    "\n",
    "plt.figure(figsize=(10, 6))\n",
    "year_counts.plot(kind='bar')\n",
    "plt.xlabel('Year')\n",
    "plt.ylabel('Number of Movies')\n",
    "plt.title('Top 10 Years with Most Movies Released')\n",
    "plt.show()"
   ]
  },
  {
   "cell_type": "markdown",
   "id": "8c387d19",
   "metadata": {
    "papermill": {
     "duration": 0.007489,
     "end_time": "2023-05-16T19:24:37.660384",
     "exception": false,
     "start_time": "2023-05-16T19:24:37.652895",
     "status": "completed"
    },
    "tags": []
   },
   "source": [
    "# Distribution of movie runtimes:"
   ]
  },
  {
   "cell_type": "code",
   "execution_count": 8,
   "id": "5f8320a0",
   "metadata": {
    "execution": {
     "iopub.execute_input": "2023-05-16T19:24:37.678245Z",
     "iopub.status.busy": "2023-05-16T19:24:37.677783Z",
     "iopub.status.idle": "2023-05-16T19:24:37.967149Z",
     "shell.execute_reply": "2023-05-16T19:24:37.965971Z"
    },
    "papermill": {
     "duration": 0.301792,
     "end_time": "2023-05-16T19:24:37.969894",
     "exception": false,
     "start_time": "2023-05-16T19:24:37.668102",
     "status": "completed"
    },
    "tags": []
   },
   "outputs": [
    {
     "data": {
      "image/png": "[encoded data removed]",
      "text/plain": [
       "<Figure size 640x480 with 1 Axes>"
      ]
     },
     "metadata": {},
     "output_type": "display_data"
    }
   ],
   "source": [
    "# graphing distribution of movie runtimes\n",
    "\n",
    "plt.hist(df['runtime'], bins=10)\n",
    "plt.xlabel('Runtime in Minutes')\n",
    "plt.ylabel('Count')\n",
    "plt.title('Distribution of Movie Runtimes')\n",
    "plt.show()"
   ]
  },
  {
   "cell_type": "markdown",
   "id": "af89c2ab",
   "metadata": {
    "papermill": {
     "duration": 0.007848,
     "end_time": "2023-05-16T19:24:37.986236",
     "exception": false,
     "start_time": "2023-05-16T19:24:37.978388",
     "status": "completed"
    },
    "tags": []
   },
   "source": [
    "# Correlation between budget and revenue:"
   ]
  },
  {
   "cell_type": "code",
   "execution_count": 9,
   "id": "898d5842",
   "metadata": {
    "execution": {
     "iopub.execute_input": "2023-05-16T19:24:38.005183Z",
     "iopub.status.busy": "2023-05-16T19:24:38.004654Z",
     "iopub.status.idle": "2023-05-16T19:24:38.014605Z",
     "shell.execute_reply": "2023-05-16T19:24:38.012896Z"
    },
    "papermill": {
     "duration": 0.023077,
     "end_time": "2023-05-16T19:24:38.017658",
     "exception": false,
     "start_time": "2023-05-16T19:24:37.994581",
     "status": "completed"
    },
    "tags": []
   },
   "outputs": [
    {
     "name": "stdout",
     "output_type": "stream",
     "text": [
      "The correlation between budget and revenue is 0.74.\n",
      "This means there is a very strong correlation between how much the movies budget is and how much revenue it will generate.\n"
     ]
    }
   ],
   "source": [
    "# finding correlation between budget and revenue\n",
    "\n",
    "correlation = df['budget'].corr(df['revenue'])\n",
    "rounded_correlation = round(correlation, 2)\n",
    "\n",
    "print(f\"The correlation between budget and revenue is {rounded_correlation}.\")\n",
    "print('This means there is a very strong correlation between how much the movies budget is and how much revenue it will generate.')"
   ]
  },
  {
   "cell_type": "markdown",
   "id": "6d4b9436",
   "metadata": {
    "papermill": {
     "duration": 0.008244,
     "end_time": "2023-05-16T19:24:38.034227",
     "exception": false,
     "start_time": "2023-05-16T19:24:38.025983",
     "status": "completed"
    },
    "tags": []
   },
   "source": [
    "# Top 10 movies with highest revenue:"
   ]
  },
  {
   "cell_type": "code",
   "execution_count": 10,
   "id": "6ec777dc",
   "metadata": {
    "execution": {
     "iopub.execute_input": "2023-05-16T19:24:38.053785Z",
     "iopub.status.busy": "2023-05-16T19:24:38.052432Z",
     "iopub.status.idle": "2023-05-16T19:24:38.076670Z",
     "shell.execute_reply": "2023-05-16T19:24:38.074926Z"
    },
    "papermill": {
     "duration": 0.037131,
     "end_time": "2023-05-16T19:24:38.079697",
     "exception": false,
     "start_time": "2023-05-16T19:24:38.042566",
     "status": "completed"
    },
    "tags": []
   },
   "outputs": [
    {
     "name": "stdout",
     "output_type": "stream",
     "text": [
      "Top 10 movies with highest revenue:\n",
      "Title                                                     Revenue\n",
      "Avatar                                             $2,923,706,026\n",
      "Avengers: Endgame                                  $2,794,731,755\n",
      "Avatar: The Way of Water                           $2,319,331,580\n",
      "Titanic                                            $2,264,162,353\n",
      "Star Wars: The Force Awakens                       $2,068,223,624\n",
      "Avengers: Infinity War                             $2,046,239,637\n",
      "Spider-Man: No Way Home                            $1,921,847,111\n",
      "Jurassic World                                     $1,671,537,444\n",
      "The Lion King                                      $1,663,075,401\n",
      "The Avengers                                       $1,518,815,515\n"
     ]
    }
   ],
   "source": [
    "# finding top 10 movies by revenue\n",
    "\n",
    "top_10_revenue = df.nlargest(10, 'revenue')\n",
    "top_10_revenue['revenue'] = top_10_revenue['revenue'].apply(lambda x: '${:,.0f}'.format(x))\n",
    "top_10_revenue['title'] = top_10_revenue['title'].str.ljust(50)\n",
    "\n",
    "top_10_revenue = top_10_revenue.rename(columns={'title': 'Title                                             ', 'revenue': 'Revenue'})\n",
    "\n",
    "print('Top 10 movies with highest revenue:')\n",
    "print(top_10_revenue[['Title                                             ', 'Revenue']].to_string(index=False))"
   ]
  }
 ],
 "metadata": {
  "kernelspec": {
   "display_name": "Python 3",
   "language": "python",
   "name": "python3"
  },
  "language_info": {
   "codemirror_mode": {
    "name": "ipython",
    "version": 3
   },
   "file_extension": ".py",
   "mimetype": "text/x-python",
   "name": "python",
   "nbconvert_exporter": "python",
   "pygments_lexer": "ipython3",
   "version": "3.10.10"
  },
  "papermill": {
   "default_parameters": {},
   "duration": 16.806587,
   "end_time": "2023-05-16T19:24:39.414567",
   "environment_variables": {},
   "exception": null,
   "input_path": "__notebook__.ipynb",
   "output_path": "__notebook__.ipynb",
   "parameters": {},
   "start_time": "2023-05-16T19:24:22.607980",
   "version": "2.4.0"
  }
 },
 "nbformat": 4,
 "nbformat_minor": 5
}
